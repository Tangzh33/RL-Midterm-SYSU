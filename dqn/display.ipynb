{
 "cells": [
  {
   "cell_type": "code",
   "execution_count": 1,
   "metadata": {},
   "outputs": [],
   "source": [
    "import base64\n",
    "from collections import deque\n",
    "import os\n",
    "import pathlib\n",
    "import shutil\n",
    "\n",
    "from IPython import display as ipydisplay\n",
    "import torch\n",
    "\n",
    "from utils_env import MyEnv\n",
    "from utils_drl import Agent"
   ]
  },
  {
   "cell_type": "code",
   "execution_count": 8,
   "metadata": {},
   "outputs": [],
   "source": [
    "target = 450\n",
    "model_name = f\"model_{target:03d}\"\n",
    "model_path = f\"./models/{model_name}\"\n",
    "device = torch.device(\"cuda\")\n",
    "env = MyEnv(device)\n",
    "agent = Agent(env.get_action_dim(), device, 0.99, 0, 0, 0, 1, model_path)"
   ]
  },
  {
   "cell_type": "code",
   "execution_count": 9,
   "metadata": {},
   "outputs": [
    {
     "name": "stdout",
     "output_type": "stream",
     "text": [
      "Avg. Reward: 1800.0\n"
     ]
    }
   ],
   "source": [
    "obs_queue = deque(maxlen=5)\n",
    "avg_reward, frames = env.evaluate(obs_queue, agent, render=True)\n",
    "print(f\"Avg. Reward: {avg_reward:.1f}\")\n",
    "\n",
    "!rm -r eval_*\n",
    "target_dir = f\"eval_{target:03d}\"\n",
    "os.mkdir(target_dir)\n",
    "for ind, frame in enumerate(frames):\n",
    "    frame.save(os.path.join(target_dir, f\"{ind:06d}.png\"), format=\"png\")"
   ]
  },
  {
   "cell_type": "code",
   "execution_count": 2,
   "metadata": {},
   "outputs": [],
   "source": [
    "target = 450\n",
    "target_dir = f\"eval_{target:03d}\"\n",
    "path_to_mp4 = os.path.join(target_dir, \"movie.mp4\")"
   ]
  },
  {
   "cell_type": "code",
   "execution_count": 4,
   "metadata": {},
   "outputs": [
    {
     "ename": "Error",
     "evalue": "Destination path 'tmp_eval_frames/eval_466' already exists",
     "output_type": "error",
     "traceback": [
      "\u001b[0;31m---------------------------------------------------------------------------\u001b[0m",
      "\u001b[0;31mError\u001b[0m                                     Traceback (most recent call last)",
      "Cell \u001b[0;32mIn [4], line 9\u001b[0m\n\u001b[1;32m      1\u001b[0m \u001b[39m# if not os.path.exists(path_to_mp4):\u001b[39;00m\n\u001b[1;32m      2\u001b[0m \u001b[39m#     shutil.move(target_dir, \"tmp_eval_frames\")\u001b[39;00m\n\u001b[1;32m      3\u001b[0m \u001b[39m#     # Generate an mp4 video from the frames\u001b[39;00m\n\u001b[0;32m   (...)\u001b[0m\n\u001b[1;32m      6\u001b[0m \u001b[39m#     os.mkdir(target_dir)\u001b[39;00m\n\u001b[1;32m      7\u001b[0m \u001b[39m#     shutil.move(\"tmp_eval_movie.mp4\", path_to_mp4)\u001b[39;00m\n\u001b[1;32m      8\u001b[0m \u001b[39mif\u001b[39;00m \u001b[39mnot\u001b[39;00m os\u001b[39m.\u001b[39mpath\u001b[39m.\u001b[39mexists(path_to_mp4):\n\u001b[0;32m----> 9\u001b[0m     shutil\u001b[39m.\u001b[39;49mmove(target_dir, \u001b[39m\"\u001b[39;49m\u001b[39mtmp_eval_frames\u001b[39;49m\u001b[39m\"\u001b[39;49m)\n\u001b[1;32m     10\u001b[0m     \u001b[39m# Generate an mp4 video from the frames\u001b[39;00m\n\u001b[1;32m     11\u001b[0m     os\u001b[39m.\u001b[39msystem(\u001b[39m'\u001b[39m\u001b[39m/mnt/sda/2022-0526/home/scc/zty/spack-0.19.0/opt/spack/linux-debian11-zen/gcc-7.5.0/ffmpeg-4.4.1-gil3xlf5afz37pjq5e36o2c26om5b6zj/bin/ffmpeg -i \u001b[39m\u001b[39m\"\u001b[39m\u001b[39m./tmp_eval_frames/eval_466/\u001b[39m\u001b[39m%06d\u001b[39;00m\u001b[39m.png\u001b[39m\u001b[39m\"\u001b[39m\u001b[39m -pix_fmt yuv420p -y ./tmp_eval_movie.mp4 > /dev/null 2>&1\u001b[39m\u001b[39m'\u001b[39m)\n",
      "File \u001b[0;32m~/zty/spack-0.19.0/opt/spack/linux-debian11-zen/gcc-7.5.0/python-3.8.5-qz67yzpqgv56f2xr5qinujx63ffuwhae/lib/python3.8/shutil.py:786\u001b[0m, in \u001b[0;36mmove\u001b[0;34m(src, dst, copy_function)\u001b[0m\n\u001b[1;32m    784\u001b[0m     real_dst \u001b[39m=\u001b[39m os\u001b[39m.\u001b[39mpath\u001b[39m.\u001b[39mjoin(dst, _basename(src))\n\u001b[1;32m    785\u001b[0m     \u001b[39mif\u001b[39;00m os\u001b[39m.\u001b[39mpath\u001b[39m.\u001b[39mexists(real_dst):\n\u001b[0;32m--> 786\u001b[0m         \u001b[39mraise\u001b[39;00m Error(\u001b[39m\"\u001b[39m\u001b[39mDestination path \u001b[39m\u001b[39m'\u001b[39m\u001b[39m%s\u001b[39;00m\u001b[39m'\u001b[39m\u001b[39m already exists\u001b[39m\u001b[39m\"\u001b[39m \u001b[39m%\u001b[39m real_dst)\n\u001b[1;32m    787\u001b[0m \u001b[39mtry\u001b[39;00m:\n\u001b[1;32m    788\u001b[0m     os\u001b[39m.\u001b[39mrename(src, real_dst)\n",
      "\u001b[0;31mError\u001b[0m: Destination path 'tmp_eval_frames/eval_466' already exists"
     ]
    }
   ],
   "source": [
    "# if not os.path.exists(path_to_mp4):\n",
    "#     shutil.move(target_dir, \"tmp_eval_frames\")\n",
    "#     # Generate an mp4 video from the frames\n",
    "#     !ffmpeg -i \"./tmp_eval_frames/%06d.png\" -pix_fmt yuv420p -y ./tmp_eval_movie.mp4 > /dev/null 2>&1\n",
    "#     !rm -r tmp_eval_frames\n",
    "#     os.mkdir(target_dir)\n",
    "#     shutil.move(\"tmp_eval_movie.mp4\", path_to_mp4)\n",
    "if not os.path.exists(path_to_mp4):\n",
    "    shutil.move(target_dir, \"tmp_eval_frames\")\n",
    "    # Generate an mp4 video from the frames\n",
    "    os.system('/mnt/sda/2022-0526/home/scc/zty/spack-0.19.0/opt/spack/linux-debian11-zen/gcc-7.5.0/ffmpeg-4.4.1-gil3xlf5afz37pjq5e36o2c26om5b6zj/bin/ffmpeg -i \"./tmp_eval_frames/%06d.png\" -pix_fmt yuv420p -y ./tmp_eval_movie.mp4 > /dev/null 2>&1')\n",
    "    # !rm -r tmp_eval_frames\n",
    "    os.mkdir(target_dir)\n",
    "    shutil.move(\"tmp_eval_movie.mp4\", path_to_mp4)"
   ]
  },
  {
   "cell_type": "code",
   "execution_count": 13,
   "metadata": {},
   "outputs": [],
   "source": [
    "HTML_TEMPLATE = \"\"\"<video alt=\"{alt}\" autoplay loop controls style=\"height: 400px;\">\n",
    "  <source src=\"data:video/mp4;base64,{data}\" type=\"video/mp4\" />\n",
    "</video>\"\"\"\n",
    "\n",
    "def show_video(path_to_mp4: str) -> None:\n",
    "    \"\"\"show_video creates an HTML element to display the given mp4 video in IPython.\"\"\"\n",
    "    mp4 = pathlib.Path(path_to_mp4)\n",
    "    video_b64 = base64.b64encode(mp4.read_bytes())\n",
    "    html = HTML_TEMPLATE.format(alt=mp4, data=video_b64.decode('ascii'))\n",
    "    ipydisplay.display(ipydisplay.HTML(data=html))"
   ]
  },
  {
   "cell_type": "code",
   "execution_count": 14,
   "metadata": {},
   "outputs": [
    {
     "ename": "FileNotFoundError",
     "evalue": "[Errno 2] No such file or directory: 'eval_284/movie.mp4'",
     "output_type": "error",
     "traceback": [
      "\u001b[0;31m---------------------------------------------------------------------------\u001b[0m",
      "\u001b[0;31mFileNotFoundError\u001b[0m                         Traceback (most recent call last)",
      "Cell \u001b[0;32mIn [14], line 1\u001b[0m\n\u001b[0;32m----> 1\u001b[0m show_video(path_to_mp4)\n",
      "Cell \u001b[0;32mIn [13], line 8\u001b[0m, in \u001b[0;36mshow_video\u001b[0;34m(path_to_mp4)\u001b[0m\n\u001b[1;32m      6\u001b[0m \u001b[39m\"\"\"show_video creates an HTML element to display the given mp4 video in IPython.\"\"\"\u001b[39;00m\n\u001b[1;32m      7\u001b[0m mp4 \u001b[39m=\u001b[39m pathlib\u001b[39m.\u001b[39mPath(path_to_mp4)\n\u001b[0;32m----> 8\u001b[0m video_b64 \u001b[39m=\u001b[39m base64\u001b[39m.\u001b[39mb64encode(mp4\u001b[39m.\u001b[39;49mread_bytes())\n\u001b[1;32m      9\u001b[0m html \u001b[39m=\u001b[39m HTML_TEMPLATE\u001b[39m.\u001b[39mformat(alt\u001b[39m=\u001b[39mmp4, data\u001b[39m=\u001b[39mvideo_b64\u001b[39m.\u001b[39mdecode(\u001b[39m'\u001b[39m\u001b[39mascii\u001b[39m\u001b[39m'\u001b[39m))\n\u001b[1;32m     10\u001b[0m ipydisplay\u001b[39m.\u001b[39mdisplay(ipydisplay\u001b[39m.\u001b[39mHTML(data\u001b[39m=\u001b[39mhtml))\n",
      "File \u001b[0;32m~/zty/spack-0.19.0/opt/spack/linux-debian11-zen/gcc-7.5.0/python-3.8.5-qz67yzpqgv56f2xr5qinujx63ffuwhae/lib/python3.8/pathlib.py:1225\u001b[0m, in \u001b[0;36mPath.read_bytes\u001b[0;34m(self)\u001b[0m\n\u001b[1;32m   1221\u001b[0m \u001b[39mdef\u001b[39;00m \u001b[39mread_bytes\u001b[39m(\u001b[39mself\u001b[39m):\n\u001b[1;32m   1222\u001b[0m     \u001b[39m\"\"\"\u001b[39;00m\n\u001b[1;32m   1223\u001b[0m \u001b[39m    Open the file in bytes mode, read it, and close the file.\u001b[39;00m\n\u001b[1;32m   1224\u001b[0m \u001b[39m    \"\"\"\u001b[39;00m\n\u001b[0;32m-> 1225\u001b[0m     \u001b[39mwith\u001b[39;00m \u001b[39mself\u001b[39;49m\u001b[39m.\u001b[39;49mopen(mode\u001b[39m=\u001b[39;49m\u001b[39m'\u001b[39;49m\u001b[39mrb\u001b[39;49m\u001b[39m'\u001b[39;49m) \u001b[39mas\u001b[39;00m f:\n\u001b[1;32m   1226\u001b[0m         \u001b[39mreturn\u001b[39;00m f\u001b[39m.\u001b[39mread()\n",
      "File \u001b[0;32m~/zty/spack-0.19.0/opt/spack/linux-debian11-zen/gcc-7.5.0/python-3.8.5-qz67yzpqgv56f2xr5qinujx63ffuwhae/lib/python3.8/pathlib.py:1218\u001b[0m, in \u001b[0;36mPath.open\u001b[0;34m(self, mode, buffering, encoding, errors, newline)\u001b[0m\n\u001b[1;32m   1216\u001b[0m \u001b[39mif\u001b[39;00m \u001b[39mself\u001b[39m\u001b[39m.\u001b[39m_closed:\n\u001b[1;32m   1217\u001b[0m     \u001b[39mself\u001b[39m\u001b[39m.\u001b[39m_raise_closed()\n\u001b[0;32m-> 1218\u001b[0m \u001b[39mreturn\u001b[39;00m io\u001b[39m.\u001b[39;49mopen(\u001b[39mself\u001b[39;49m, mode, buffering, encoding, errors, newline,\n\u001b[1;32m   1219\u001b[0m                opener\u001b[39m=\u001b[39;49m\u001b[39mself\u001b[39;49m\u001b[39m.\u001b[39;49m_opener)\n",
      "File \u001b[0;32m~/zty/spack-0.19.0/opt/spack/linux-debian11-zen/gcc-7.5.0/python-3.8.5-qz67yzpqgv56f2xr5qinujx63ffuwhae/lib/python3.8/pathlib.py:1074\u001b[0m, in \u001b[0;36mPath._opener\u001b[0;34m(self, name, flags, mode)\u001b[0m\n\u001b[1;32m   1072\u001b[0m \u001b[39mdef\u001b[39;00m \u001b[39m_opener\u001b[39m(\u001b[39mself\u001b[39m, name, flags, mode\u001b[39m=\u001b[39m\u001b[39m0o666\u001b[39m):\n\u001b[1;32m   1073\u001b[0m     \u001b[39m# A stub for the opener argument to built-in open()\u001b[39;00m\n\u001b[0;32m-> 1074\u001b[0m     \u001b[39mreturn\u001b[39;00m \u001b[39mself\u001b[39;49m\u001b[39m.\u001b[39;49m_accessor\u001b[39m.\u001b[39;49mopen(\u001b[39mself\u001b[39;49m, flags, mode)\n",
      "\u001b[0;31mFileNotFoundError\u001b[0m: [Errno 2] No such file or directory: 'eval_284/movie.mp4'"
     ]
    }
   ],
   "source": [
    "show_video(path_to_mp4)"
   ]
  },
  {
   "cell_type": "code",
   "execution_count": null,
   "metadata": {},
   "outputs": [],
   "source": []
  }
 ],
 "metadata": {
  "kernelspec": {
   "display_name": "Python 3.8.5 ('xyl_RL': venv)",
   "language": "python",
   "name": "python3"
  },
  "language_info": {
   "codemirror_mode": {
    "name": "ipython",
    "version": 3
   },
   "file_extension": ".py",
   "mimetype": "text/x-python",
   "name": "python",
   "nbconvert_exporter": "python",
   "pygments_lexer": "ipython3",
   "version": "3.8.5"
  },
  "vscode": {
   "interpreter": {
    "hash": "a319b24705b3e8171ef596e90e093243222f4f06a44923295662053e29e4002e"
   }
  }
 },
 "nbformat": 4,
 "nbformat_minor": 4
}
